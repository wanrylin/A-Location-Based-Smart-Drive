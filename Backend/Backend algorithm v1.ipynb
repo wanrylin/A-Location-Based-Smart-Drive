{
 "cells": [
  {
   "cell_type": "markdown",
   "source": [
    "# Backend file storage algorithm"
   ],
   "metadata": {
    "collapsed": false
   }
  },
  {
   "cell_type": "markdown",
   "source": [
    "## Objective\n",
    "The system will automatically put the files in different folders (on cloud or on your local computer) based on the real time location (name of the city) of the devices, such as “Vancouver”, “Surrey”, “Victoria”, “Burnaby”, “Coquitlam”, etc. If a new location is used, the system will automatically create a new folder for this new location and find out the city name of the location to use as the folder name, if the system cannot find the name of the city, the system will ask the user. The system will confirm after uploading (success/fail)."
   ],
   "metadata": {
    "collapsed": false
   }
  },
  {
   "cell_type": "markdown",
   "source": [
    "## Developing version"
   ],
   "metadata": {
    "collapsed": false
   }
  },
  {
   "cell_type": "markdown",
   "source": [
    "### Random location generation based on Postcode\n",
    "Generating a random Canadian postal code involves creating a string that matches the format of Canadian postal codes: A1A 1A1, where \"A\" represents an alphabet character and \"1\" represents a digit."
   ],
   "metadata": {
    "collapsed": false
   }
  },
  {
   "cell_type": "code",
   "execution_count": 103,
   "outputs": [
    {
     "name": "stdout",
     "output_type": "stream",
     "text": [
      "R0U 4X6\n"
     ]
    }
   ],
   "source": [
    "import random\n",
    "import string\n",
    "\n",
    "def generate_random_postal_code():\n",
    "    # Characters allowed in different positions of the postal code\n",
    "    alphabet = string.ascii_uppercase\n",
    "    digits = string.digits\n",
    "\n",
    "    # Generate each part of the postal code\n",
    "    first_alpha = random.choice(alphabet)\n",
    "    first_digit = random.choice(digits)\n",
    "    second_alpha = random.choice(alphabet)\n",
    "\n",
    "    third_digit = random.choice(digits)\n",
    "    fourth_alpha = random.choice(alphabet)\n",
    "    fifth_digit = random.choice(digits)\n",
    "\n",
    "    # Combine all parts into the standard format\n",
    "    postal_code = f\"{first_alpha}{first_digit}{second_alpha} {third_digit}{fourth_alpha}{fifth_digit}\"\n",
    "\n",
    "    return postal_code\n",
    "\n",
    "# Generate and print a random Canadian postal code\n",
    "print(generate_random_postal_code())"
   ],
   "metadata": {
    "collapsed": false
   }
  },
  {
   "cell_type": "markdown",
   "source": [
    "### address searcher based on postcode"
   ],
   "metadata": {
    "collapsed": false
   }
  },
  {
   "cell_type": "code",
   "execution_count": 64,
   "outputs": [],
   "source": [
    "from geopy.geocoders import Nominatim\n",
    "\n",
    "def get_address(postal_code):\n",
    "    geolocator = Nominatim(user_agent=\"location_based_smart_drive\")\n",
    "    location = geolocator.geocode(postal_code, country_codes=\"CA\")\n",
    "    if location:\n",
    "        print(f'Address: {location}')\n",
    "        return location.address\n",
    "    else:\n",
    "        print(f'No address found for postal code: {postal_code}')\n",
    "        return None"
   ],
   "metadata": {
    "collapsed": false
   }
  },
  {
   "cell_type": "code",
   "execution_count": 15,
   "outputs": [
    {
     "name": "stdout",
     "output_type": "stream",
     "text": [
      "Address: Langford, Capital Regional District, V9B 6A2, British Columbia, Canada\n"
     ]
    }
   ],
   "source": [
    "# Example usage:\n",
    "postal_code = \"V9B 6A2\"  # Replace with the postal code you are looking up\n",
    "address = get_address(postal_code)\n",
    "if address:\n",
    "    print(f'Address: {address}')\n",
    "else:\n",
    "    print(f'No address found for postal code: {postal_code}')"
   ],
   "metadata": {
    "collapsed": false
   }
  },
  {
   "cell_type": "code",
   "execution_count": 19,
   "outputs": [],
   "source": [
    "costco = \"V9B 6A2\"\n",
    "downtown = \"V8W 1H2\"\n",
    "UVic = \"V8P 5C2\"\n",
    "sidney = \"V8L 1X5\""
   ],
   "metadata": {
    "collapsed": false
   }
  },
  {
   "cell_type": "code",
   "execution_count": 21,
   "outputs": [
    {
     "name": "stdout",
     "output_type": "stream",
     "text": [
      "Address: Sidney, Capital Regional District, V8L 1X5, British Columbia, Canada\n"
     ]
    }
   ],
   "source": [
    "postal_code = sidney\n",
    "address = get_address(postal_code)\n",
    "if address:\n",
    "    print(f'Address: {address}')\n",
    "else:\n",
    "    print(f'No address found for postal code: {postal_code}')"
   ],
   "metadata": {
    "collapsed": false
   }
  },
  {
   "cell_type": "code",
   "execution_count": 32,
   "outputs": [
    {
     "name": "stdout",
     "output_type": "stream",
     "text": [
      "Address: Downtown, Victoria, Capital Regional District, V8W 1H2, British Columbia, Canada\n"
     ]
    }
   ],
   "source": [
    "postal_code = downtown\n",
    "address = get_address(postal_code)\n",
    "if address:\n",
    "    print(f'Address: {address}')\n",
    "else:\n",
    "    print(f'No address found for postal code: {postal_code}')"
   ],
   "metadata": {
    "collapsed": false
   }
  },
  {
   "cell_type": "markdown",
   "source": [
    "Split the long address into 4 levels"
   ],
   "metadata": {
    "collapsed": false
   }
  },
  {
   "cell_type": "code",
   "execution_count": 37,
   "outputs": [
    {
     "name": "stdout",
     "output_type": "stream",
     "text": [
      "['Downtown', 'Victoria', 'Capital Regional District', 'V8W 1H2', 'British Columbia', 'Canada']\n",
      "['British_Columbia', 'Capital_Regional_District', 'Victoria']\n"
     ]
    }
   ],
   "source": [
    "add_lst = address.split(\", \")\n",
    "print(add_lst)\n",
    "add_lst.reverse()\n",
    "add_level = add_lst[1:2] + add_lst[3:5]\n",
    "add_level = [x.replace(\" \",\"_\") for x in add_level]\n",
    "print(add_level)"
   ],
   "metadata": {
    "collapsed": false
   }
  },
  {
   "cell_type": "markdown",
   "source": [
    "### get the directory"
   ],
   "metadata": {
    "collapsed": false
   }
  },
  {
   "cell_type": "code",
   "execution_count": 40,
   "outputs": [
    {
     "name": "stdout",
     "output_type": "stream",
     "text": [
      "/Users/wanrylin/Python code/ECE 569 IOT/Backend\n",
      "/Users/wanrylin/Python code/ECE 569 IOT\n",
      "/Users/wanrylin/Python code/ECE 569 IOT/Backend test\n",
      "False\n"
     ]
    }
   ],
   "source": [
    "# Use the %pwd magic command to get the current working directory\n",
    "current_directory = %pwd\n",
    "print(current_directory)\n",
    "# Now to get the father (parent) directory:\n",
    "import os\n",
    "father_directory = os.path.dirname(current_directory)\n",
    "print(father_directory)\n",
    "test_repository = os.path.join(father_directory, \"Backend test\")\n",
    "print(test_repository)\n",
    "print(os.path.exists(test_repository))"
   ],
   "metadata": {
    "collapsed": false
   }
  },
  {
   "cell_type": "markdown",
   "source": [
    "Create a new folder for testing file storage algorithm"
   ],
   "metadata": {
    "collapsed": false
   }
  },
  {
   "cell_type": "code",
   "execution_count": 49,
   "outputs": [
    {
     "name": "stdout",
     "output_type": "stream",
     "text": [
      "Directory /Users/wanrylin/Python code/ECE 569 IOT/Backend test already exists.\n",
      "Directory /Users/wanrylin/Python code/ECE 569 IOT/Backend test/test file created.\n"
     ]
    }
   ],
   "source": [
    "if not os.path.exists(test_repository):\n",
    "    os.mkdir(test_repository)\n",
    "    print(f'Directory {test_repository} created.')\n",
    "else:\n",
    "    print(f'Directory {test_repository} already exists.')\n",
    "# create a folder to store all the generated files\n",
    "test_file_folder = os.path.join(test_repository, \"test file\")\n",
    "if not os.path.exists(test_file_folder):\n",
    "    os.mkdir(test_file_folder)\n",
    "    print(f'Directory {test_file_folder} created.')\n",
    "else:\n",
    "    print(f'Directory {test_file_folder} already exists.')"
   ],
   "metadata": {
    "collapsed": false
   }
  },
  {
   "cell_type": "markdown",
   "source": [
    "### location based folder process\n",
    "find if the location exists in current directory. Exist, return ture flag. Not exist, reuturn false flag and create new folders"
   ],
   "metadata": {
    "collapsed": false
   }
  },
  {
   "cell_type": "code",
   "execution_count": 46,
   "outputs": [
    {
     "name": "stdout",
     "output_type": "stream",
     "text": [
      "Directory /Users/wanrylin/Python code/ECE 569 IOT/Backend test/British_Columbia already exists.\n",
      "Directory /Users/wanrylin/Python code/ECE 569 IOT/Backend test/British_Columbia/Capital_Regional_District already exists.\n",
      "Directory /Users/wanrylin/Python code/ECE 569 IOT/Backend test/British_Columbia/Capital_Regional_District/Victoria already exists.\n",
      "/Users/wanrylin/Python code/ECE 569 IOT/Backend test/British_Columbia/Capital_Regional_District/Victoria False\n"
     ]
    }
   ],
   "source": [
    "def ensure_directories_exist(directory_list, father_directory):\n",
    "    current_directory = father_directory\n",
    "    flag = \"True\"\n",
    "    for directory in directory_list:\n",
    "        # Construct the path to the next directory\n",
    "        current_directory = os.path.join(current_directory, directory)\n",
    "        # Check if the directory exists, if not create it\n",
    "        if not os.path.exists(current_directory):\n",
    "            flag = \"False\"\n",
    "            os.mkdir(current_directory)\n",
    "            print(f'Directory {current_directory} created.')\n",
    "        else:\n",
    "            print(f'Directory {current_directory} already exists.')\n",
    "    # return the father path of the file, flag of path existance(T:exist, F:not)\n",
    "    return current_directory, flag\n",
    "\n",
    "# Call the function\n",
    "file_father_path, exist_flag = ensure_directories_exist(add_level, test_repository)\n",
    "print(file_father_path, exist_flag)"
   ],
   "metadata": {
    "collapsed": false
   }
  },
  {
   "cell_type": "markdown",
   "source": [
    "### move file"
   ],
   "metadata": {
    "collapsed": false
   }
  },
  {
   "cell_type": "markdown",
   "source": [
    "generate file"
   ],
   "metadata": {
    "collapsed": false
   }
  },
  {
   "cell_type": "code",
   "execution_count": 55,
   "outputs": [],
   "source": [
    "# create a file for test\n",
    "file_name = postal_code + \".txt\"\n",
    "# content is the address\n",
    "file_content = address\n",
    "# file path\n",
    "source_file_path = os.path.join(test_file_folder, file_name)\n",
    "# Open the file with write ('w') permission. If the file doesn't exist, Python will create it.\n",
    "with open(source_file_path, 'w') as file:\n",
    "    # Write the content to the file\n",
    "    file.write(file_content)"
   ],
   "metadata": {
    "collapsed": false
   }
  },
  {
   "cell_type": "markdown",
   "source": [
    "Copy file to the location folder"
   ],
   "metadata": {
    "collapsed": false
   }
  },
  {
   "cell_type": "code",
   "execution_count": 56,
   "outputs": [
    {
     "data": {
      "text/plain": "'/Users/wanrylin/Python code/ECE 569 IOT/Backend test/British_Columbia/Capital_Regional_District/Victoria/V8W 1H2.txt'"
     },
     "execution_count": 56,
     "metadata": {},
     "output_type": "execute_result"
    }
   ],
   "source": [
    "import shutil\n",
    "\n",
    "# Specify the destination path\n",
    "destination_path = os.path.join(file_father_path,file_name)\n",
    "\n",
    "# Use shutil.copy2() to copy the file\n",
    "shutil.copy2(source_file_path, destination_path)\n"
   ],
   "metadata": {
    "collapsed": false
   }
  },
  {
   "cell_type": "code",
   "execution_count": 77,
   "outputs": [
    {
     "name": "stdout",
     "output_type": "stream",
     "text": [
      "Copy successful: /Users/wanrylin/Python code/ECE 569 IOT/Backend test/British_Columbia/Capital_Regional_District/Victoria/V8W 1H2.txt\n"
     ]
    }
   ],
   "source": [
    "import shutil\n",
    "\n",
    "def copy_file(source_file_path, file_father_path,file_name):\n",
    "    # Specify the destination path\n",
    "    destination_path = os.path.join(file_father_path,file_name)\n",
    "    try:\n",
    "        # Attempt to copy the file\n",
    "        dest = shutil.copy2(source_file_path, destination_path)\n",
    "        return f'Copy successful: {dest}'\n",
    "    except FileNotFoundError as e:\n",
    "        return f'File not found: {e}'\n",
    "    except PermissionError as e:\n",
    "        return f'Permission error: {e}'\n",
    "    except Exception as e:\n",
    "        # Catch any other exceptions\n",
    "        return f'An error occurred: {e}'\n",
    "\n",
    "\n",
    "\n",
    "# Call the function and print the result\n",
    "result = copy_file(source_file_path, file_father_path,file_name)\n",
    "print(result)"
   ],
   "metadata": {
    "collapsed": false
   }
  },
  {
   "cell_type": "markdown",
   "source": [
    "# Intergrate all the functions"
   ],
   "metadata": {
    "collapsed": false
   }
  },
  {
   "cell_type": "code",
   "execution_count": 60,
   "outputs": [],
   "source": [
    "# find if the directory exist or not and create the folder if not exist\n",
    "def ensure_path_exist(directory):\n",
    "    flag = \"True\"\n",
    "    # Check if the directory exists, if not create it\n",
    "    if not os.path.exists(directory):\n",
    "        flag = \"False\"\n",
    "        os.mkdir(directory)\n",
    "        print(f'Directory {directory} created.')\n",
    "    else:\n",
    "        print(f'Directory {directory} already exists.')\n",
    "    # return the father path of the file, flag of path existance(T:exist, F:not)\n",
    "    return directory, flag"
   ],
   "metadata": {
    "collapsed": false
   }
  },
  {
   "cell_type": "code",
   "execution_count": 89,
   "outputs": [],
   "source": [
    "# Get the directory according to the location\n",
    "def get_path(address):\n",
    "    # turn address str into str list\n",
    "    add_lst = address.split(\", \")\n",
    "    # in country, province, postal code, city, town order\n",
    "    add_lst.reverse()\n",
    "    # just use province, city and town\n",
    "    # remove postal code inside\n",
    "    for names in add_lst:\n",
    "        contains_number = any(char.isdigit() for char in names)\n",
    "        if contains_number:\n",
    "            add_lst.remove(names)\n",
    "    # just need 3 levels\n",
    "    add_level = add_lst[1:4]\n",
    "    # replace space by _\n",
    "    add_level = [x.replace(\" \", \"_\") for x in add_level]\n",
    "    # check whether \"Backend test\" folder exist or not\n",
    "    # Get the current working directory\n",
    "    current_directory = os.getcwd()\n",
    "    # Now to get the father (parent) directory:\n",
    "    father_directory = os.path.dirname(current_directory)\n",
    "    test_repository = os.path.join(father_directory, \"Backend test\")\n",
    "    # find it \"test_repository\" exist or not\n",
    "    test_repository,test_repository_flag = ensure_path_exist(test_repository)\n",
    "    # create a folder to store all the generated files\n",
    "    test_file_folder = os.path.join(test_repository, \"test file\")\n",
    "    # find it \"test_file_folder\" exist or not\n",
    "    test_file_folder,test_file_folder_flag = ensure_path_exist(test_file_folder)\n",
    "    flag = \"True\"\n",
    "    add_path = test_repository\n",
    "    for add_directory in add_level:\n",
    "        # Construct the path to the next directory\n",
    "        add_path = os.path.join(add_path, add_directory)\n",
    "        # Check if the directory exists, if not create it\n",
    "        add_path,add_flag = ensure_path_exist(add_path)\n",
    "\n",
    "    return add_path,add_flag,test_repository_flag,test_file_folder"
   ],
   "metadata": {
    "collapsed": false
   }
  },
  {
   "cell_type": "code",
   "execution_count": 78,
   "outputs": [],
   "source": [
    "# create test file and store in test file folder\n",
    "def create_test_file(postal_code,address,test_file_folder):\n",
    "    # create a file for test\n",
    "    file_name = postal_code + \".txt\"\n",
    "    # content is the address\n",
    "    file_content = address\n",
    "    # file path\n",
    "    source_file_path = os.path.join(test_file_folder, file_name)\n",
    "    # Open the file with write ('w') permission. If the file doesn't exist, Python will create it.\n",
    "    with open(source_file_path, 'w') as file:\n",
    "        # Write the content to the file\n",
    "        file.write(file_content)\n",
    "\n",
    "    return source_file_path,file_name"
   ],
   "metadata": {
    "collapsed": false
   }
  },
  {
   "cell_type": "code",
   "execution_count": 100,
   "outputs": [],
   "source": [
    "# get test postal code\n",
    "def get_postal_code(mode):\n",
    "    # mode 1: randomly generating\n",
    "    if mode == 0:\n",
    "        loop = 0\n",
    "        while True:\n",
    "            random_postal_code = generate_random_postal_code()\n",
    "            loop = loop + 1\n",
    "            address = get_address(random_postal_code)\n",
    "            if address:\n",
    "                print(f\"iteration times: {loop}\")\n",
    "                break\n",
    "    elif mode == 1:\n",
    "        costco = \"V9B 6A2\"\n",
    "        downtown = \"V8W 1H2\"\n",
    "        UVic = \"V8P 5C2\"\n",
    "        sidney = \"V8L 1X5\"\n",
    "        Durham_Region  = \"L9L 1K2\"\n",
    "        UBC = \"V6T 1Z4\"\n",
    "        Halifax = \"B3K 6R8\"\n",
    "        random_postal_code = Halifax\n",
    "\n",
    "    print(f\"Postal code: {random_postal_code}\")\n",
    "    return random_postal_code"
   ],
   "metadata": {
    "collapsed": false
   }
  },
  {
   "cell_type": "code",
   "execution_count": 102,
   "outputs": [
    {
     "name": "stdout",
     "output_type": "stream",
     "text": [
      "Postal code: B3K 6R8\n",
      "Address: Halifax, Halifax Regional Municipality, B3K 6R8, Halifax County, Nova Scotia, Canada\n",
      "Directory /Users/wanrylin/Python code/ECE 569 IOT/Backend test already exists.\n",
      "Directory /Users/wanrylin/Python code/ECE 569 IOT/Backend test/test file already exists.\n",
      "Directory /Users/wanrylin/Python code/ECE 569 IOT/Backend test/Nova_Scotia created.\n",
      "Directory /Users/wanrylin/Python code/ECE 569 IOT/Backend test/Nova_Scotia/Halifax_County created.\n",
      "Directory /Users/wanrylin/Python code/ECE 569 IOT/Backend test/Nova_Scotia/Halifax_County/Halifax_Regional_Municipality created.\n",
      "Copy successful: /Users/wanrylin/Python code/ECE 569 IOT/Backend test/Nova_Scotia/Halifax_County/Halifax_Regional_Municipality/B3K 6R8.txt\n"
     ]
    }
   ],
   "source": [
    "# get test postal code\n",
    "postal_code = get_postal_code(1)\n",
    "# get address according to the postal code\n",
    "address = get_address(postal_code)\n",
    "# get file path according to the address\n",
    "file_path,add_flag,test_repository_flag,test_file_folder = get_path(address)\n",
    "# create test file\n",
    "source_file_path,file_name = create_test_file(postal_code,address,test_file_folder)\n",
    "# move test file\n",
    "result = copy_file(source_file_path, file_path,file_name)\n",
    "print(result)"
   ],
   "metadata": {
    "collapsed": false
   }
  },
  {
   "cell_type": "code",
   "execution_count": 104,
   "outputs": [
    {
     "name": "stdout",
     "output_type": "stream",
     "text": [
      "Copy successful: /Users/wanrylin/Python code/ECE 569 IOT/Backend test/Nova_Scotia/Halifax_County/Halifax_Regional_Municipality/B3K 6R8.txt\n"
     ]
    }
   ],
   "source": [
    "print(result)"
   ],
   "metadata": {
    "collapsed": false
   }
  },
  {
   "cell_type": "code",
   "execution_count": 111,
   "outputs": [
    {
     "name": "stdout",
     "output_type": "stream",
     "text": [
      " * Serving Flask app '__main__'\n",
      " * Debug mode: on\n"
     ]
    },
    {
     "name": "stderr",
     "output_type": "stream",
     "text": [
      "\u001B[31m\u001B[1mWARNING: This is a development server. Do not use it in a production deployment. Use a production WSGI server instead.\u001B[0m\n",
      " * Running on http://127.0.0.1:5001\n",
      "\u001B[33mPress CTRL+C to quit\u001B[0m\n",
      " * Restarting with stat\n",
      "Traceback (most recent call last):\n",
      "  File \"/Users/wanrylin/Python code/ECE 569 IOT/venv/lib/python3.9/site-packages/ipykernel_launcher.py\", line 17, in <module>\n",
      "    app.launch_new_instance()\n",
      "  File \"/Users/wanrylin/Python code/ECE 569 IOT/venv/lib/python3.9/site-packages/traitlets/config/application.py\", line 1052, in launch_instance\n",
      "    app.initialize(argv)\n",
      "  File \"/Users/wanrylin/Python code/ECE 569 IOT/venv/lib/python3.9/site-packages/traitlets/config/application.py\", line 117, in inner\n",
      "    return method(app, *args, **kwargs)\n",
      "  File \"/Users/wanrylin/Python code/ECE 569 IOT/venv/lib/python3.9/site-packages/ipykernel/kernelapp.py\", line 689, in initialize\n",
      "    self.init_sockets()\n",
      "  File \"/Users/wanrylin/Python code/ECE 569 IOT/venv/lib/python3.9/site-packages/ipykernel/kernelapp.py\", line 328, in init_sockets\n",
      "    self.shell_port = self._bind_socket(self.shell_socket, self.shell_port)\n",
      "  File \"/Users/wanrylin/Python code/ECE 569 IOT/venv/lib/python3.9/site-packages/ipykernel/kernelapp.py\", line 252, in _bind_socket\n",
      "    return self._try_bind_socket(s, port)\n",
      "  File \"/Users/wanrylin/Python code/ECE 569 IOT/venv/lib/python3.9/site-packages/ipykernel/kernelapp.py\", line 228, in _try_bind_socket\n",
      "    s.bind(\"tcp://%s:%i\" % (self.ip, port))\n",
      "  File \"/Users/wanrylin/Python code/ECE 569 IOT/venv/lib/python3.9/site-packages/zmq/sugar/socket.py\", line 302, in bind\n",
      "    super().bind(addr)\n",
      "  File \"zmq/backend/cython/socket.pyx\", line 564, in zmq.backend.cython.socket.Socket.bind\n",
      "  File \"zmq/backend/cython/checkrc.pxd\", line 28, in zmq.backend.cython.checkrc._check_rc\n",
      "zmq.error.ZMQError: Address already in use (addr='tcp://127.0.0.1:54506')\n"
     ]
    },
    {
     "ename": "SystemExit",
     "evalue": "1",
     "output_type": "error",
     "traceback": [
      "An exception has occurred, use %tb to see the full traceback.\n",
      "\u001B[0;31mSystemExit\u001B[0m\u001B[0;31m:\u001B[0m 1\n"
     ]
    }
   ],
   "source": [
    "from flask import Flask, render_template, send_from_directory\n",
    "import os\n",
    "\n",
    "app = Flask(__name__)\n",
    "\n",
    "@app.route('/')\n",
    "def home():\n",
    "    # Set the directory you want to start from\n",
    "    rootdir = os.path.expanduser(dir)  # This will start at your home directory\n",
    "    # For a specific path, you can use something like rootdir = 'C:/path/to/folder'\n",
    "    files_and_dirs = [{'name': item, 'is_dir': os.path.isdir(os.path.join(rootdir, item))} for item in os.listdir(rootdir)]\n",
    "    return render_template('index.html', files_and_dirs=files_and_dirs, rootdir=rootdir)\n",
    "\n",
    "@app.route('/files/<path:filename>')\n",
    "def download_file(filename):\n",
    "    return send_from_directory(os.path.expanduser('~'), filename, as_attachment=True)\n",
    "\n",
    "if __name__ == '__main__':\n",
    "    app.run(debug=True, port=5001)\n"
   ],
   "metadata": {
    "collapsed": false
   }
  },
  {
   "cell_type": "code",
   "execution_count": 112,
   "outputs": [],
   "source": [
    "import os\n",
    "\n",
    "def save_file_with_unique_name(directory, filename, file_content):\n",
    "    \"\"\"\n",
    "    Save a file with a unique name in the specified directory. If a file with the same name exists,\n",
    "    append a number in parentheses to the filename.\n",
    "\n",
    "    Args:\n",
    "    - directory: The directory to save the file in.\n",
    "    - filename: The original filename for the file.\n",
    "    - file_content: The content to write to the file.\n",
    "\n",
    "    Returns:\n",
    "    - The path to the saved file.\n",
    "    \"\"\"\n",
    "    if not os.path.isdir(directory):\n",
    "        os.makedirs(directory)\n",
    "\n",
    "    base, extension = os.path.splitext(filename)\n",
    "    counter = 1\n",
    "    unique_filename = filename\n",
    "\n",
    "    # Check if the file exists and create a new filename if necessary\n",
    "    while os.path.exists(os.path.join(directory, unique_filename)):\n",
    "        unique_filename = f\"{base}({counter}){extension}\"\n",
    "        counter += 1\n",
    "\n",
    "    # Save the file\n",
    "    file_path = os.path.join(directory, unique_filename)\n",
    "    with open(file_path, 'w') as file:\n",
    "        file.write(file_content)\n",
    "\n",
    "    return file_path\n"
   ],
   "metadata": {
    "collapsed": false
   }
  },
  {
   "cell_type": "code",
   "execution_count": 113,
   "outputs": [
    {
     "data": {
      "text/plain": "'/Users/wanrylin/Python code/ECE 569 IOT/Backend test/British_Columbia/Capital_Regional_District/Oak_Bay/test(1).png'"
     },
     "execution_count": 113,
     "metadata": {},
     "output_type": "execute_result"
    }
   ],
   "source": [
    "directory = '/Users/wanrylin/Python code/ECE 569 IOT/Backend test/British_Columbia/Capital_Regional_District/Oak_Bay'\n",
    "filename = 'test.png'\n",
    "file_content = 'unique_name test'\n",
    "save_file_with_unique_name(directory, filename, file_content)"
   ],
   "metadata": {
    "collapsed": false
   }
  },
  {
   "cell_type": "code",
   "execution_count": null,
   "outputs": [],
   "source": [],
   "metadata": {
    "collapsed": false
   }
  }
 ],
 "metadata": {
  "kernelspec": {
   "display_name": "Python 3",
   "language": "python",
   "name": "python3"
  },
  "language_info": {
   "codemirror_mode": {
    "name": "ipython",
    "version": 2
   },
   "file_extension": ".py",
   "mimetype": "text/x-python",
   "name": "python",
   "nbconvert_exporter": "python",
   "pygments_lexer": "ipython2",
   "version": "2.7.6"
  }
 },
 "nbformat": 4,
 "nbformat_minor": 0
}
